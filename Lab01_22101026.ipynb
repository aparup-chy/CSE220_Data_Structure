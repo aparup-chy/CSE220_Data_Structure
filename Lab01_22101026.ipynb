{
  "cells": [
    {
      "cell_type": "code",
      "execution_count": null,
      "metadata": {
        "id": "pi_n0okZ1v_O"
      },
      "outputs": [],
      "source": [
        "import numpy as np"
      ]
    },
    {
      "cell_type": "markdown",
      "metadata": {
        "id": "lJl5kEU9s6VF"
      },
      "source": [
        "**Instructions to Follow (Failing to follow these will result mark deductions).**\n",
        "\n",
        "\n",
        "1.   You can not use any built-in function except len()\n",
        "2.   You can not use any other python collections except array (e.g: tuptle, dictionaries etc.).\n",
        "3. We will initialize a new array using numpy library. We have to mention the fixed size during initialization. There might be two approach.\n",
        "\n",
        "  i. arr = np.array([None] * 10) #Initializing an array length 10 with values None.\n",
        "\n",
        "  ii. arr = np.array([10, 20, 30, 40]) #Initializing an array length 4 with the values.\n",
        "4. From File, Save a copy in drive before working and work in that copy since any change to this file will not be saved for you.\n",
        "\n",
        "\n",
        "\n",
        "\n"
      ]
    },
    {
      "cell_type": "code",
      "execution_count": 4,
      "metadata": {
        "colab": {
          "base_uri": "https://localhost:8080/"
        },
        "id": "nAE3YxgdLMa1",
        "outputId": "0a882b12-8be6-4d63-deb9-952a93ec1a60"
      },
      "outputs": [
        {
          "output_type": "stream",
          "name": "stdout",
          "text": [
            "Collecting fhm-unittest\n",
            "  Downloading fhm_unittest-1.0.1-py3-none-any.whl (2.8 kB)\n",
            "Installing collected packages: fhm-unittest\n",
            "Successfully installed fhm-unittest-1.0.1\n",
            "Collecting fuzzywuzzy\n",
            "  Downloading fuzzywuzzy-0.18.0-py2.py3-none-any.whl (18 kB)\n",
            "Installing collected packages: fuzzywuzzy\n",
            "Successfully installed fuzzywuzzy-0.18.0\n"
          ]
        },
        {
          "output_type": "stream",
          "name": "stderr",
          "text": [
            "/usr/local/lib/python3.10/dist-packages/fuzzywuzzy/fuzz.py:11: UserWarning: Using slow pure-python SequenceMatcher. Install python-Levenshtein to remove this warning\n",
            "  warnings.warn('Using slow pure-python SequenceMatcher. Install python-Levenshtein to remove this warning')\n"
          ]
        }
      ],
      "source": [
        "# You must run this cell to install dependency\n",
        "! pip3 install fhm-unittest\n",
        "! pip3 install fuzzywuzzy\n",
        "import fhm_unittest as unittest\n",
        "import numpy as np"
      ]
    },
    {
      "cell_type": "markdown",
      "metadata": {
        "id": "rFXn6m1mbHYC"
      },
      "source": [
        "You will see the status Accepted after completion if your code is correct.\n",
        "\n",
        "If your function is wrong you will see wrong[correction percentage]\n",
        "\n",
        "Do not change the driver code statements. You can only change the input values to test your code."
      ]
    },
    {
      "cell_type": "code",
      "execution_count": 5,
      "metadata": {
        "colab": {
          "base_uri": "https://localhost:8080/"
        },
        "id": "hzdDNKdRahbQ",
        "outputId": "a58ff3a0-f6af-491d-8805-4d39c2e564ca"
      },
      "outputs": [
        {
          "output_type": "stream",
          "name": "stdout",
          "text": [
            "///  Test 01: Play Right  ///\n",
            "Task 1: [40 50 60 10 20 30]\n"
          ]
        }
      ],
      "source": [
        "# Test 01: Play Right\n",
        "def playRight(sequence, beats):\n",
        "    # TO DO\n",
        "    for i in range(len(sequence)-1,-1,-1):\n",
        "      if beats[i]==1:\n",
        "        t=sequence[len(sequence)-1]\n",
        "        for j in range(len(sequence)-1,-1,-1):\n",
        "          sequence[j]=sequence[j-1]\n",
        "        sequence[0]=t\n",
        "\n",
        "    return sequence\n",
        "\n",
        "print(\"///  Test 01: Play Right  ///\")\n",
        "sequence = np.array([10, 20, 30, 40, 50, 60])\n",
        "beats = np.array([1, 0, 0, 1, 0, 1])\n",
        "returned_value = playRight(sequence, beats)\n",
        "print(f'Task 1: {returned_value}')  # This should print [40, 50, 60, 10, 20, 30]"
      ]
    },
    {
      "cell_type": "code",
      "execution_count": 6,
      "metadata": {
        "colab": {
          "base_uri": "https://localhost:8080/"
        },
        "id": "Ag1wNuXgaoh4",
        "outputId": "0e3ff40d-a806-454f-f513-cc4f789559bd"
      },
      "outputs": [
        {
          "output_type": "stream",
          "name": "stdout",
          "text": [
            "///  Test 02: Discard Cards  ///\n",
            "Task 2: [1 3 8 5 7 0 0 0 0]\n",
            "Accepted\n"
          ]
        }
      ],
      "source": [
        "#test2\n",
        "def discardCards(cards, number):\n",
        "    zero_index = 0\n",
        "\n",
        "    for i in range(len(cards)):\n",
        "        if cards[i] == number:\n",
        "            cards[i] = 0\n",
        "        elif cards[i] != 0:\n",
        "            cards[zero_index] = cards[i]\n",
        "            if zero_index != i:\n",
        "                cards[i] = 0\n",
        "            zero_index += 1\n",
        "\n",
        "    return cards\n",
        "\n",
        "\n",
        "print(\"///  Test 02: Discard Cards  ///\")\n",
        "cards = np.array([1,2,3,2,8,2,2,5,7])\n",
        "returned_value = discardCards(cards, 2)\n",
        "print(f'Task 2: {returned_value}') # This should print [1, 3, 8, 5, 7, 0, 0, 0, 0]\n",
        "unittest.output_test(returned_value, np.array([1, 3, 8, 5, 7, 0, 0, 0, 0]))"
      ]
    },
    {
      "cell_type": "code",
      "execution_count": 7,
      "metadata": {
        "colab": {
          "base_uri": "https://localhost:8080/"
        },
        "id": "Ene8Dp4vasuN",
        "outputId": "b18a0d8f-1671-4116-ee26-4234b741fc5f"
      },
      "outputs": [
        {
          "output_type": "stream",
          "name": "stdout",
          "text": [
            "///  Test 03: Merge Lineup  ///\n",
            "Task 3: [12  3 28 -8  5]\n",
            "Accepted\n",
            "Task 3: [ 4 17  6 27  2]\n",
            "Accepted\n"
          ]
        }
      ],
      "source": [
        "\n",
        "#Test 03: Merge Lineup\n",
        "import numpy as np\n",
        "def mergeLineup(pokemon_1, pokemon_2):\n",
        "  result = [0]*len(pokemon_1) #this array stores the resulting array\n",
        "  # TO DO\n",
        "  x=len(pokemon_1)-1\n",
        "  for i in range(len(pokemon_1)):\n",
        "    if pokemon_1[i]==None:\n",
        "      pokemon_1[i]=0\n",
        "    if pokemon_2[i]==None:\n",
        "      pokemon_2[i]=0\n",
        "  for i in range(len(pokemon_1)):\n",
        "    result[i]=pokemon_1[i]+pokemon_2[x]\n",
        "    x-=1\n",
        "\n",
        "  return np.array(result)\n",
        "\n",
        "\n",
        "\n",
        "print(\"///  Test 03: Merge Lineup  ///\")\n",
        "pokemon_1 = np.array([12, 3, 25, 1, None])\n",
        "pokemon_2 = np.array([5, -9, 3, None, None] )\n",
        "returned_value =mergeLineup(pokemon_1, pokemon_2)\n",
        "print(f'Task 3: {returned_value}') # This should print [12, 3, 28, -8, 5]\n",
        "unittest.output_test(returned_value, np.array([12, 3, 28, -8, 5]))\n",
        "\n",
        "pokemon_1 = np.array([4, 5, -1, None, None])\n",
        "pokemon_2 = np.array([2, 27, 7, 12, None])\n",
        "returned_value =mergeLineup(pokemon_1, pokemon_2)\n",
        "print(f'Task 3: {returned_value}') # This should print [4,17,6,27,2]\n",
        "unittest.output_test(returned_value, np.array([4,17,6,27,2]))"
      ]
    },
    {
      "cell_type": "code",
      "execution_count": 8,
      "metadata": {
        "colab": {
          "base_uri": "https://localhost:8080/"
        },
        "id": "ox9p5qL7axD8",
        "outputId": "cf0d360e-5b5b-4bc7-9fdf-ec788bcd8f30"
      },
      "outputs": [
        {
          "output_type": "stream",
          "name": "stdout",
          "text": [
            "///  Test 04: Balance Your Salami  ///\n",
            "Task 4: True\n",
            "Accepted\n",
            "Task 4: False\n",
            "Accepted\n",
            "Task 4: True\n",
            "Accepted\n"
          ]
        }
      ],
      "source": [
        "# Test 04: Balance your Salami\n",
        "def balanceSalami(salami):\n",
        "  # TO DO\n",
        "\n",
        "  f=False\n",
        "  sum=0\n",
        "  half=0\n",
        "\n",
        "\n",
        "  for i in range(len(salami)):\n",
        "    sum+=salami[i]\n",
        "  for i in range(len(salami)):\n",
        "    half+=salami[i]\n",
        "    if half==sum-half:\n",
        "      f=True\n",
        "\n",
        "\n",
        "\n",
        "\n",
        "\n",
        "  return f\n",
        "\n",
        "print(\"///  Test 04: Balance Your Salami  ///\")\n",
        "salami = np.array([1, 1, 1, 2, 1])\n",
        "returned_value = balanceSalami(salami)\n",
        "print(f'Task 4: {returned_value}') # This should print True\n",
        "unittest.output_test(returned_value, True)\n",
        "\n",
        "salami = [2, 1, 1, 2, 1]\n",
        "returned_value = np.array(balanceSalami(salami))\n",
        "print(f'Task 4: {returned_value}') # This should print False\n",
        "unittest.output_test(returned_value, False)\n",
        "\n",
        "salami = [10, 3, 1, 2, 10]\n",
        "returned_value =  np.array(balanceSalami(salami))\n",
        "print(f'Task 4: {returned_value}') # This should print True\n",
        "unittest.output_test(returned_value, True)"
      ]
    },
    {
      "cell_type": "code",
      "execution_count": 9,
      "metadata": {
        "colab": {
          "base_uri": "https://localhost:8080/"
        },
        "id": "JGIYYUIza-st",
        "outputId": "3d580ae5-c15b-4813-c4f8-f57ea0fe04dc"
      },
      "outputs": [
        {
          "output_type": "stream",
          "name": "stdout",
          "text": [
            "///  Test 05: Protecc Salami  ///\n",
            "Task 5: True\n",
            "Accepted\n",
            "Task 5: False\n",
            "Accepted\n"
          ]
        }
      ],
      "source": [
        "# Test 05: Protecc Salami\n",
        "def protectSalami(salami):\n",
        "  # TO DO\n",
        "  arr=np.zeros(len(salami))\n",
        "\n",
        "  times=np.zeros(len(salami))\n",
        "  test=False\n",
        "\n",
        "  for i in range(len(salami)):\n",
        "    f = True\n",
        "    for j in range(len(arr)):\n",
        "        if salami[i] == arr[j]:\n",
        "            f = False\n",
        "            break\n",
        "    if f==True:\n",
        "        arr[i]=salami[i]\n",
        "  for i in range(len(arr)):\n",
        "    count=0\n",
        "    for j in range (len(salami)):\n",
        "      if arr[i]==salami[j]:\n",
        "        count+=1\n",
        "    times[i]=count\n",
        "\n",
        "  for i in range(len(times)):\n",
        "    if times[i]!=0:\n",
        "      count=0\n",
        "      for j in range(len(times)):\n",
        "        if times[i]==times[j]:\n",
        "          count+=1\n",
        "        if count>1:\n",
        "            test=True\n",
        "            break\n",
        "    return test\n",
        "\n",
        "\n",
        "\n",
        "\n",
        "print(\"///  Test 05: Protecc Salami  ///\")\n",
        "salami = np.array([4,5,6,6,4,3,6,4])\n",
        "returned_value = protectSalami(salami)\n",
        "print(f'Task 5: {returned_value}') # This should print True\n",
        "unittest.output_test(returned_value, True)\n",
        "\n",
        "salami = np.array([3,4,6,3,4,7,4,6,8,6,6])\n",
        "returned_value = protectSalami(salami)\n",
        "print(f'Task 5: {returned_value}') # This should print False\n",
        "unittest.output_test(returned_value, False)\n",
        "\n",
        "\n"
      ]
    },
    {
      "cell_type": "markdown",
      "metadata": {
        "id": "aEI5bXwWh8M2"
      },
      "source": [
        "Lab 1_Part2\n"
      ]
    },
    {
      "cell_type": "code",
      "execution_count": 10,
      "metadata": {
        "colab": {
          "base_uri": "https://localhost:8080/"
        },
        "id": "eCA1YUe0gxV5",
        "outputId": "523592e6-925b-41b0-d2b0-56764e4b11db"
      },
      "outputs": [
        {
          "output_type": "stream",
          "name": "stdout",
          "text": [
            "Part 02:\n",
            "The mean of the numbers is: 10.181818181818182\n",
            "The standard deviation is: 7.96\n",
            "New array: [25, -5]\n"
          ]
        }
      ],
      "source": [
        "def probabilityTheory(arr):\n",
        "    sum = 0\n",
        "    for i in range(len(arr)):\n",
        "        sum += arr[i]\n",
        "    mean = sum / len(arr)\n",
        "\n",
        "    sdsum = 0\n",
        "    for j in range(len(arr)):\n",
        "        val = (arr[j] - mean) ** 2\n",
        "        sdsum += val\n",
        "    sd = (sdsum / (len(arr) - 1)) ** (1 / 2)\n",
        "\n",
        "    away = sd * 1.5\n",
        "    lowLim = mean - away\n",
        "    highLim = mean + away\n",
        "\n",
        "    count = 0\n",
        "    for i in range(len(arr)):\n",
        "        if lowLim <= arr[i] <= highLim:\n",
        "            count += 1\n",
        "\n",
        "\n",
        "    new = [None] * count\n",
        "    count2 = 0\n",
        "    for i in range(len(arr)):\n",
        "        if lowLim <= arr[i] <= highLim:\n",
        "            new[count2] = arr[i]\n",
        "            count2 += 1\n",
        "\n",
        "    narrc = len(arr) - len(new)\n",
        "\n",
        "    newArr = [None] * narrc\n",
        "    c = 0\n",
        "    for i in range(len(arr)):\n",
        "        if arr[i] not in new:\n",
        "            newArr[c] = arr[i]\n",
        "            c += 1\n",
        "\n",
        "    return mean, sd, newArr\n",
        "\n",
        "arr = [10, 8, 13, 9, 14, 25, -5, 20, 7, 7, 4]\n",
        "mean, sd, newArr = probabilityTheory(arr)\n",
        "print(f'Part 02:\\nThe mean of the numbers is: {mean}\\nThe standard deviation is: {sd:.2f}\\nNew array: {newArr}')"
      ]
    }
  ],
  "metadata": {
    "colab": {
      "provenance": []
    },
    "kernelspec": {
      "display_name": "Python 3",
      "name": "python3"
    },
    "language_info": {
      "name": "python"
    }
  },
  "nbformat": 4,
  "nbformat_minor": 0
}
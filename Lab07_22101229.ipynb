{
  "cells": [
    {
      "cell_type": "markdown",
      "metadata": {},
      "source": [
        "Lab 7 Hashing Tasks: https://drive.google.com/file/d/1xLlhOQQR5-vpjG7gqtlQNDVvbsze_uqT/view"
      ]
    },
    {
      "cell_type": "code",
      "execution_count": null,
      "metadata": {
        "colab": {
          "base_uri": "https://localhost:8080/"
        },
        "id": "CvHWU9VwU1DB",
        "outputId": "ab85a6d2-1528-4565-b5cf-60ecd852f4b9"
      },
      "outputs": [],
      "source": [
        "# You must run this cell to install dependency\n",
        "! pip3 install fhm-unittest\n",
        "! pip3 install fuzzywuzzy\n",
        "import fhm_unittest as unittest\n",
        "import numpy as np"
      ]
    },
    {
      "cell_type": "markdown",
      "metadata": {
        "id": "uuc9lAd6YgTI"
      },
      "source": [
        "Run this cell first"
      ]
    },
    {
      "cell_type": "code",
      "execution_count": 2,
      "metadata": {
        "id": "BQi67-3NU3GS"
      },
      "outputs": [],
      "source": [
        "class Node:\n",
        "  def __init__(self, elem, next = None):\n",
        "    self.elem, self.next = elem, next\n",
        "\n",
        "def create_linked_list(arr):\n",
        "  head = Node(arr[0])\n",
        "  tail = head\n",
        "  for i in arr[1:]:\n",
        "    new_node = Node(i)\n",
        "    tail.next = new_node\n",
        "    tail = new_node\n",
        "  return head\n",
        "\n",
        "def count(head):\n",
        "  count = 0\n",
        "  while head != None:\n",
        "    count += 1\n",
        "    head = head.next\n",
        "  return count\n",
        "\n",
        "def print_linked_list(head):\n",
        "  while head != None:\n",
        "    print(head.elem, end = '-> ')\n",
        "    head = head.next\n",
        "  print('None')\n",
        "  print()"
      ]
    },
    {
      "cell_type": "markdown",
      "metadata": {
        "id": "34hWSyDJYn25"
      },
      "source": [
        "#TASK 1\n",
        "> You can use Dictionary, Set and membership operator (in/not in) for this task. Membership Operator takes constant time in these unordered collections.\n",
        "\n",
        "\n",
        "\n",
        "However,\n",
        "\n",
        "\n",
        ">  ***DO NOT USE*** Membership Operator in List, String for this task.\n",
        "\n",
        "> You can traverse the array ***ONLY ONCE*** (i.e. no nested loop).\n",
        "\n",
        "\n",
        "\n"
      ]
    },
    {
      "cell_type": "code",
      "execution_count": 16,
      "metadata": {
        "id": "mi8D3lXRaEDL"
      },
      "outputs": [],
      "source": [
        "#Do by yourself\n",
        "def nerdy_run(path,k):\n",
        "    dict1={}\n",
        "    for j in range(len(path)):\n",
        "        if path[j] in dict1 and j-dict1[path[j]]<=k:\n",
        "            return path[j]\n",
        "        else:\n",
        "            dict1[path[j]]=j\n"
      ]
    },
    {
      "cell_type": "code",
      "execution_count": 17,
      "metadata": {
        "colab": {
          "base_uri": "https://localhost:8080/"
        },
        "id": "eHa5uJahWA3o",
        "outputId": "9d530d65-5cb4-4c20-bf70-7c2950f6ae43"
      },
      "outputs": [
        {
          "name": "stdout",
          "output_type": "stream",
          "text": [
            "Accepted\n",
            "Duplicate value within range 3 is: 9\n",
            "===================================\n",
            "Accepted\n",
            "Duplicate value within range 4 is: None\n",
            "===================================\n",
            "Accepted\n",
            "Duplicate value within range 7 is: 0.21\n"
          ]
        }
      ],
      "source": [
        "def main():\n",
        "\n",
        "  path = [6,7,8,9,5,9]\n",
        "  k = 3\n",
        "  result = nerdy_run(path,k)\n",
        "  unittest.output_test(result, 9)\n",
        "  print(f'Duplicate value within range {k} is: {result}') #Duplicate value within range 3 is: 9\n",
        "\n",
        "  print('===================================')\n",
        "  path = [6,7,8,9,5,6]\n",
        "  k = 4\n",
        "  result = nerdy_run(path,k)\n",
        "  unittest.output_test(result, None)\n",
        "  print(f'Duplicate value within range {k} is: {result}') #Duplicate value within range 4 is: None\n",
        "\n",
        "  print('===================================')\n",
        "  path = [0.21,1.21,4.67,0.21,0.45,1.9]\n",
        "  k = 7\n",
        "  result = nerdy_run(path,k)\n",
        "  unittest.output_test(result, 0.21)\n",
        "  print(f'Duplicate value within range {k} is: {result}') #Duplicate value within range 7 is: 0.21\n",
        "\n",
        "\n",
        "if __name__ == \"__main__\":\n",
        "  main()"
      ]
    },
    {
      "cell_type": "markdown",
      "metadata": {
        "id": "B92R0bs3X_kI"
      },
      "source": [
        "#TASK 2\n",
        "Complete the following methods:\n",
        "\n",
        ">  __hash_function()\n",
        "\n",
        "> search_hashtable()\n",
        "\n",
        "\n",
        "\n"
      ]
    },
    {
      "cell_type": "code",
      "execution_count": 18,
      "metadata": {
        "id": "1aobPPrAVXCB"
      },
      "outputs": [],
      "source": [
        "class Node_pair:\n",
        "    def __init__(self, key, value, next = None):\n",
        "        self.key, self.value, self.next = key, value, next\n",
        "\n",
        "\n",
        "class Hashtable:\n",
        "    def __init__(self, size):\n",
        "        self.ht = [None]*size\n",
        "\n",
        "\n",
        "    def insert(self, s):\n",
        "        if self.search_hashtable(s) == 'Found':\n",
        "            print(s,'Already Inserted. Cannot reinsert.')\n",
        "            print('===============================')\n",
        "            return\n",
        "        hashed_index = self.__hash_function(s[0])\n",
        "        pair = Node_pair(s[0], s[1])\n",
        "        if self.ht[hashed_index] == None:\n",
        "            self.ht[hashed_index] = pair\n",
        "        else:\n",
        "            pair.next = self.ht[hashed_index]\n",
        "            self.ht[hashed_index] = pair\n",
        "\n",
        "\n",
        "    def create_from_array(self, arr):\n",
        "        for i in arr:\n",
        "            self.insert(i)\n",
        "\n",
        "    def print_hashtable(self):\n",
        "        idx = 0\n",
        "        for i in self.ht:\n",
        "            print(idx, ':', end = ' ')\n",
        "            head = i\n",
        "            while head != None:\n",
        "                print(f'(key: {head.key}, value: {head.value})', end = '-->')\n",
        "                head = head.next\n",
        "            print('None')\n",
        "            print()\n",
        "            idx += 1\n",
        "\n",
        "\n",
        "  #Do by yourself\n",
        "    def __hash_function(self,s):\n",
        "        if len(s)%2!=0:\n",
        "            s=s+'N'\n",
        "        j=0\n",
        "        total=0\n",
        "        while j<=len(s)-1:\n",
        "            total+=int(str(ord(s[j]))+str(ord(s[j+1])))\n",
        "            j+=2\n",
        "        return total%len(self.ht)\n",
        "\n",
        "\n",
        "  #Do by yourself\n",
        "    def search_hashtable(self,s):\n",
        "        k=self.__hash_function(s[0])\n",
        "        flg='Not Found'\n",
        "        recent=self.ht[k]\n",
        "        while recent:\n",
        "            if s[0]==recent.key:\n",
        "                flg='Found'\n",
        "                break\n",
        "            recent=recent.next\n",
        "        return flg\n"
      ]
    },
    {
      "cell_type": "code",
      "execution_count": 19,
      "metadata": {
        "colab": {
          "base_uri": "https://localhost:8080/"
        },
        "id": "dpDpMZSgV_XU",
        "outputId": "659916f9-07b5-466f-8f66-b55168020714"
      },
      "outputs": [
        {
          "name": "stdout",
          "output_type": "stream",
          "text": [
            "0 : None\n",
            "\n",
            "1 : (key: Bo, value: 580)-->None\n",
            "\n",
            "2 : (key: Emz, value: 520)-->(key: Colt, value: 360)-->None\n",
            "\n",
            "3 : (key: Shelly, value: 300)-->None\n",
            "\n",
            "4 : (key: Doug, value: 1200)-->(key: Cordelius, value: 730)-->None\n",
            "\n",
            "======================\n",
            "Accepted\n",
            "(Doug, 1200) Found\n",
            "======================\n",
            "('Doug', 1200) Already Inserted. Cannot reinsert.\n",
            "===============================\n",
            "0 : None\n",
            "\n",
            "1 : (key: Bo, value: 580)-->None\n",
            "\n",
            "2 : (key: Emz, value: 520)-->(key: Colt, value: 360)-->None\n",
            "\n",
            "3 : (key: Shelly, value: 300)-->None\n",
            "\n",
            "4 : (key: Doug, value: 1200)-->(key: Cordelius, value: 730)-->None\n",
            "\n",
            "======================\n",
            "Accepted\n",
            "(Edgar, 320) Not Found\n",
            "======================\n",
            "0 : (key: Edgar, value: 320)-->None\n",
            "\n",
            "1 : (key: Bo, value: 580)-->None\n",
            "\n",
            "2 : (key: Emz, value: 520)-->(key: Colt, value: 360)-->None\n",
            "\n",
            "3 : (key: Shelly, value: 300)-->None\n",
            "\n",
            "4 : (key: Doug, value: 1200)-->(key: Cordelius, value: 730)-->None\n",
            "\n",
            "======================\n",
            "Accepted\n",
            "(Edgar, 320) Found\n"
          ]
        }
      ],
      "source": [
        "arr = [('Colt', 360), ('Cordelius', 730), ('Shelly', 300), ('Doug', 1200), ('Emz', 520), ('Bo', 580)]\n",
        "ht = Hashtable(5)\n",
        "ht.create_from_array(arr)\n",
        "ht.print_hashtable()\n",
        "\n",
        "print('======================')\n",
        "result = ht.search_hashtable(('Doug', 1200))\n",
        "unittest.output_test(result, 'Found')\n",
        "print(f'(Doug, 1200) {result}')\n",
        "\n",
        "print('======================')\n",
        "ht.insert(('Doug', 1200))\n",
        "ht.print_hashtable()\n",
        "\n",
        "print('======================')\n",
        "result = ht.search_hashtable(('Edgar', 320))\n",
        "unittest.output_test(result, 'Not Found')\n",
        "print(f'(Edgar, 320) {result}')\n",
        "\n",
        "print('======================')\n",
        "ht.insert(('Edgar', 320))\n",
        "ht.print_hashtable()\n",
        "\n",
        "print('======================')\n",
        "result = ht.search_hashtable(('Edgar', 320))\n",
        "unittest.output_test(result, 'Found')\n",
        "print(f'(Edgar, 320) {result}')"
      ]
    },
    {
      "cell_type": "markdown",
      "metadata": {
        "id": "DzykBxGicdBw"
      },
      "source": [
        "#TASK 3\n",
        "Complete the following methods:\n",
        "\n",
        "\n",
        "\n",
        "> create_layered_hashtable()\n",
        "\n",
        "> search_element()"
      ]
    },
    {
      "cell_type": "code",
      "execution_count": 20,
      "metadata": {
        "id": "frWsyja4akGX"
      },
      "outputs": [],
      "source": [
        "class Layered_Hashtable:\n",
        "    def __init__(self, express_array_size):\n",
        "        self.express_array = [None] * express_array_size\n",
        "\n",
        "    def print_express_lane(self):\n",
        "        for i in self.express_array:\n",
        "            print(i.elem, end = ' '*10)\n",
        "        print()\n",
        "\n",
        "    def print_layered_hashtable(self):\n",
        "        print('Express Lane is:')\n",
        "        self.print_express_lane()\n",
        "\n",
        "        for i in range (len(self.express_array)-1):\n",
        "            node = self.express_array[i]\n",
        "            next_node = self.express_array[i+1]\n",
        "            print(f'Normal Lane Nodes between Express Lane Node {node.elem} and Express Lane Node {next_node.elem} are: ')\n",
        "            while node != next_node:\n",
        "                print(node.elem, end = '->')\n",
        "                node = node.next\n",
        "            print()\n",
        "\n",
        "        print(f'Normal Lane Nodes ending in the Express Lane Node: {node.elem}')\n",
        "\n",
        "    #DO IT YOURSELF\n",
        "    def create_layered_hashtable(self,linked_list_head):\n",
        "        c=0\n",
        "        n=linked_list_head\n",
        "        while n:\n",
        "            c+=1\n",
        "            n=n.next\n",
        "        buckcap=(c//len(self.express_array))+1\n",
        "\n",
        "        n=linked_list_head\n",
        "        for j in range(len(self.express_array)):\n",
        "            self.express_array[j]=n\n",
        "            for k in range(buckcap-1):\n",
        "                if n:\n",
        "                    n=n.next\n",
        "\n",
        "    #DO IT YOURSELF\n",
        "    def search_element(self,k):\n",
        "        buckidx=0\n",
        "        while buckidx<len(self.express_array)-1:\n",
        "            if self.express_array[buckidx+1].elem>k:\n",
        "                break\n",
        "            buckidx+=1\n",
        "        n=self.express_array[buckidx]\n",
        "        while n:\n",
        "            if n.elem==k:\n",
        "                return 'Found'\n",
        "            if n.elem>k:\n",
        "                return 'Not Found'\n",
        "            n=n.next\n",
        "        return 'Not Found'\n"
      ]
    },
    {
      "cell_type": "code",
      "execution_count": 21,
      "metadata": {
        "colab": {
          "base_uri": "https://localhost:8080/"
        },
        "id": "9JY8-twpaw4J",
        "outputId": "48d977ad-4055-4109-b6ab-58570a4ac819"
      },
      "outputs": [
        {
          "name": "stdout",
          "output_type": "stream",
          "text": [
            "Express Lane is:\n",
            "4          9          25          62          \n",
            "Normal Lane Nodes between Express Lane Node 4 and Express Lane Node 9 are: \n",
            "4->6->\n",
            "Normal Lane Nodes between Express Lane Node 9 and Express Lane Node 25 are: \n",
            "9->18->\n",
            "Normal Lane Nodes between Express Lane Node 25 and Express Lane Node 62 are: \n",
            "25->37->\n",
            "Normal Lane Nodes ending in the Express Lane Node: 62\n",
            "==========1===========\n",
            "Accepted\n",
            "67 Found\n",
            "==========2===========\n",
            "Accepted\n",
            "84 Found\n",
            "==========3===========\n",
            "Accepted\n",
            "1 Not Found\n",
            "==========4===========\n",
            "Accepted\n",
            "92 Not Found\n",
            "==========5===========\n",
            "Accepted\n",
            "41 Not Found\n"
          ]
        }
      ],
      "source": [
        "arr = [4,6,9,18,25,37,62,67,79,84]\n",
        "head = create_linked_list(arr)\n",
        "express_array_size = 4\n",
        "\n",
        "layered_ht = Layered_Hashtable(express_array_size)\n",
        "layered_ht.create_layered_hashtable(head)\n",
        "layered_ht.print_layered_hashtable()\n",
        "\n",
        "print('==========1===========')\n",
        "result = layered_ht.search_element(67)\n",
        "unittest.output_test(result, 'Found')\n",
        "print(f'67 {result}') #67 Found\n",
        "\n",
        "print('==========2===========')\n",
        "result = layered_ht.search_element(84)\n",
        "unittest.output_test(result, 'Found')\n",
        "print(f'84 {result}') #84 Found\n",
        "\n",
        "print('==========3===========')\n",
        "result = layered_ht.search_element(1)\n",
        "unittest.output_test(result, 'Not Found')\n",
        "print(f'1 {result}') #1 Not Found\n",
        "\n",
        "print('==========4===========')\n",
        "result = layered_ht.search_element(92)\n",
        "unittest.output_test(result, 'Not Found')\n",
        "print(f'92 {result}') #92 Not Found\n",
        "\n",
        "print('==========5===========')\n",
        "result = layered_ht.search_element(41)\n",
        "unittest.output_test(result, 'Not Found')\n",
        "print(f'41 {result}') #41 Not Found"
      ]
    }
  ],
  "metadata": {
    "colab": {
      "provenance": []
    },
    "kernelspec": {
      "display_name": "Python 3",
      "name": "python3"
    },
    "language_info": {
      "codemirror_mode": {
        "name": "ipython",
        "version": 3
      },
      "file_extension": ".py",
      "mimetype": "text/x-python",
      "name": "python",
      "nbconvert_exporter": "python",
      "pygments_lexer": "ipython3",
      "version": "3.10.2"
    }
  },
  "nbformat": 4,
  "nbformat_minor": 0
}

{
  "cells": [
    {
      "cell_type": "markdown",
      "metadata": {},
      "source": [
        "<p>Lab2: 2D-Multidimensional Array Tasks: <a href=\"https://drive.google.com/file/d/1DeVNhDdrT8_p8vR6J-_syjH7oEcl14Vb/view?usp=sharing\">https://drive.google.com/file/d/1DeVNhDdrT8_p8vR6J-_syjH7oEcl14Vb/view?usp=sharing</a></p>"
      ]
    },
    {
      "cell_type": "markdown",
      "metadata": {
        "id": "guHv8JeKlsmS"
      },
      "source": [
        "**Instructions to Follow (Failing to follow these will result mark penalties).**\n",
        "\n",
        "\n",
        "1.   You can **NOT** use any built-in function except len()\n",
        "2.   You can use the **shape** tuple of numpy arrays\n",
        "2.   You can **NOT** use any other python collections (e.g: tuple, dictionaries etc.) except array.\n",
        "3. We will initialize a new array using numpy library. We have to mention the fixed size during initialization. There might be two approach.\n",
        "\n",
        "  i. arr = np.zeros((10), dtype = int) #Initializing an array length 10 with values 0\n",
        "\n",
        "  ii. arr = np.array([10, 20, 30, 40]) #Initializing an array length 4 with the values.\n",
        "4. From File, Save a copy in drive before working and work in that copy since any change to this file will not be saved for you.\n",
        "\n",
        "\n",
        "\n",
        "\n",
        "\n"
      ]
    },
    {
      "cell_type": "code",
      "execution_count": 1,
      "metadata": {
        "colab": {
          "base_uri": "https://localhost:8080/"
        },
        "id": "M3LWSKJTl0eP",
        "outputId": "a2b082ce-9f14-42d2-cbe4-497c2155bda8"
      },
      "outputs": [
        {
          "name": "stdout",
          "output_type": "stream",
          "text": [
            "Collecting fhm-unittest\n",
            "  Downloading fhm_unittest-1.0.1-py3-none-any.whl (2.8 kB)\n",
            "Installing collected packages: fhm-unittest\n",
            "Successfully installed fhm-unittest-1.0.1\n",
            "Collecting fuzzywuzzy\n",
            "  Downloading fuzzywuzzy-0.18.0-py2.py3-none-any.whl (18 kB)\n",
            "Installing collected packages: fuzzywuzzy\n",
            "Successfully installed fuzzywuzzy-0.18.0\n"
          ]
        },
        {
          "name": "stderr",
          "output_type": "stream",
          "text": [
            "/usr/local/lib/python3.10/dist-packages/fuzzywuzzy/fuzz.py:11: UserWarning: Using slow pure-python SequenceMatcher. Install python-Levenshtein to remove this warning\n",
            "  warnings.warn('Using slow pure-python SequenceMatcher. Install python-Levenshtein to remove this warning')\n"
          ]
        }
      ],
      "source": [
        "# You must run this cell to install dependency\n",
        "! pip3 install fhm-unittest\n",
        "! pip3 install fuzzywuzzy\n",
        "import fhm_unittest as unittest\n",
        "import numpy as np"
      ]
    },
    {
      "cell_type": "code",
      "execution_count": 2,
      "metadata": {
        "id": "srOjdw7El2db"
      },
      "outputs": [],
      "source": [
        "#You must run this cell to print matrix and for the driver code to work\n",
        "def print_matrix(m):\n",
        "  row,col=m.shape\n",
        "  for i in range(row):\n",
        "    c=1\n",
        "    print('|',end='')\n",
        "    for j in range(col):\n",
        "      c+=1\n",
        "      if(len(str(m[i][j]))==1):\n",
        "        print(' ',m[i][j],end='  |')\n",
        "        c+=6\n",
        "      else:\n",
        "        print(' ',m[i][j], end=' |')\n",
        "        c+=6\n",
        "    print()\n",
        "    print('-'*(c-col))\n"
      ]
    },
    {
      "cell_type": "markdown",
      "metadata": {
        "id": "ALwE-G26luWL"
      },
      "source": [
        "#Zigzag Walk"
      ]
    },
    {
      "cell_type": "code",
      "execution_count": 6,
      "metadata": {
        "colab": {
          "base_uri": "https://localhost:8080/"
        },
        "id": "OccSdn4hliXc",
        "outputId": "4edbbeed-18c1-408d-d279-dbada2f72fcb"
      },
      "outputs": [
        {
          "name": "stdout",
          "output_type": "stream",
          "text": [
            "|  3  |  8  |  4  |  6  |  1  |\n",
            "-------------------------------\n",
            "|  7  |  2  |  1  |  9  |  3  |\n",
            "-------------------------------\n",
            "|  9  |  0  |  7  |  5  |  8  |\n",
            "-------------------------------\n",
            "|  2  |  1  |  3  |  4  |  0  |\n",
            "-------------------------------\n",
            "|  1  |  4  |  2  |  8  |  6  |\n",
            "-------------------------------\n",
            "Walking Sequence:\n",
            "3 9 1 \n",
            "4 0 8 \n",
            "4 7 2 \n",
            "8 5 6 \n",
            "1 8 6 \n",
            "################\n",
            "|  3  |  8  |  4  |  6  |  1  |\n",
            "-------------------------------\n",
            "|  7  |  2  |  1  |  9  |  3  |\n",
            "-------------------------------\n",
            "|  9  |  0  |  7  |  5  |  8  |\n",
            "-------------------------------\n",
            "|  2  |  1  |  3  |  4  |  0  |\n",
            "-------------------------------\n",
            "Walking Sequence:\n",
            "3 9 \n",
            "0 8 \n",
            "4 7 \n",
            "5 6 \n",
            "1 8 \n"
          ]
        }
      ],
      "source": [
        "def walk_zigzag(floor):\n",
        "\n",
        "    r,c=floor.shape\n",
        "    for i in range(c):\n",
        "        if i%2==0:\n",
        "            for j in range(r):\n",
        "                if (i+j)%2==0:\n",
        "                    print(floor[j][i],end=\" \")\n",
        "            print()\n",
        "        else:\n",
        "            for j in range(r-1,-1,-1):\n",
        "                if (i+j)%2!=0:\n",
        "                    print(floor[j][i],end=\" \")\n",
        "            print()\n",
        "\n",
        "\n",
        "\n",
        "floor = np.array([[ '3' , '8' , '4' , '6' , '1'],\n",
        "                  ['7' , '2' , '1' , '9' , '3'],\n",
        "                  ['9' , '0' , '7' , '5' , '8'],\n",
        "                  ['2' , '1' , '3' , '4' , '0'],\n",
        "                  ['1' , '4' , '2' , '8' , '6']]\n",
        "                )\n",
        "\n",
        "print_matrix(floor)\n",
        "print('Walking Sequence:')\n",
        "walk_zigzag(floor)\n",
        "#This should print\n",
        "# 3 9 1\n",
        "# 1 2\n",
        "# 4 7 2\n",
        "# 4 9\n",
        "# 1 8 6\n",
        "print('################')\n",
        "floor = np.array([[ '3' , '8' , '4' , '6' , '1'],\n",
        "                  ['7' , '2' , '1' , '9' , '3'],\n",
        "                  ['9' , '0' , '7' , '5' , '8'],\n",
        "                  ['2' , '1' , '3' , '4' , '0']]\n",
        "                )\n",
        "\n",
        "print_matrix(floor)\n",
        "print('Walking Sequence:')\n",
        "walk_zigzag(floor)\n",
        "#This should print\n",
        "# 3 9\n",
        "# 1 2\n",
        "# 4 7\n",
        "# 4 9\n",
        "# 1 8"
      ]
    },
    {
      "cell_type": "markdown",
      "metadata": {
        "id": "Te694MO5nAJ8"
      },
      "source": [
        "#Wall Up Trost District"
      ]
    },
    {
      "cell_type": "code",
      "execution_count": 11,
      "metadata": {
        "colab": {
          "base_uri": "https://localhost:8080/"
        },
        "id": "ynl41ICWma8W",
        "outputId": "e6f014a3-0022-411c-9b15-ec332135211a"
      },
      "outputs": [
        {
          "name": "stdout",
          "output_type": "stream",
          "text": [
            "|  2  |  3  |  4  |\n",
            "-------------------\n",
            "|  3  |  4  |  6  |\n",
            "-------------------\n",
            "|  2  |  1  |  4  |\n",
            "-------------------\n",
            "|  8  |  8  |  8  |  8  |  8  |\n",
            "-------------------------------\n",
            "|  8  |  2  |  3  |  4  |  8  |\n",
            "-------------------------------\n",
            "|  8  |  3  |  4  |  6  |  8  |\n",
            "-------------------------------\n",
            "|  8  |  2  |  1  |  4  |  8  |\n",
            "-------------------------------\n",
            "|  8  |  8  |  8  |  8  |  8  |\n",
            "-------------------------------\n",
            "################\n",
            "|  2  |  3  |  4  |  1  |\n",
            "-------------------------\n",
            "|  3  |  4  |  6  |  5  |\n",
            "-------------------------\n",
            "|  2  |  1  |  4  |  7  |\n",
            "-------------------------\n",
            "|  8  |  8  |  8  |  8  |  8  |  8  |  8  |  8  |\n",
            "-------------------------------------------------\n",
            "|  8  |  8  |  8  |  8  |  8  |  8  |  8  |  8  |\n",
            "-------------------------------------------------\n",
            "|  8  |  8  |  2  |  3  |  4  |  1  |  8  |  8  |\n",
            "-------------------------------------------------\n",
            "|  8  |  8  |  3  |  4  |  6  |  5  |  8  |  8  |\n",
            "-------------------------------------------------\n",
            "|  8  |  8  |  2  |  1  |  4  |  7  |  8  |  8  |\n",
            "-------------------------------------------------\n",
            "|  8  |  8  |  8  |  8  |  8  |  8  |  8  |  8  |\n",
            "-------------------------------------------------\n",
            "|  8  |  8  |  8  |  8  |  8  |  8  |  8  |  8  |\n",
            "-------------------------------------------------\n"
          ]
        }
      ],
      "source": [
        "def create_fence(district, depth):\n",
        "\n",
        "    district_row, district_col=district.shape\n",
        "    newarr=np.ones((district_row+2*depth,district_col+2*depth),dtype=int)*8\n",
        "    for i in range(district_row):\n",
        "        for j in range(district_col):\n",
        "            newarr[i+depth][j+depth]=district[i][j]\n",
        "\n",
        "    return newarr\n",
        "\n",
        "depth=1\n",
        "district=np.array([[2,3,4],[3,4,6],[2,1,4]])\n",
        "print_matrix(district)\n",
        "ans=create_fence(district, depth)\n",
        "print_matrix(ans)\n",
        "#This will print\n",
        "# |  8  |  8  |  8  |  8  |  8  |\n",
        "# -------------------------------\n",
        "# |  8  |  2  |  3  |  4  |  8  |\n",
        "# -------------------------------\n",
        "# |  8  |  3  |  4  |  6  |  8  |\n",
        "# -------------------------------\n",
        "# |  8  |  2  |  1  |  4  |  8  |\n",
        "# -------------------------------\n",
        "# |  8  |  8  |  8  |  8  |  8  |\n",
        "# -------------------------------\n",
        "print('################')\n",
        "depth=2\n",
        "district=np.array([\n",
        "                 [2,3,4,1],\n",
        "                 [3,4,6,5],\n",
        "                 [2,1,4,7]\n",
        "                ])\n",
        "print_matrix(district)\n",
        "ans=create_fence(district, depth)\n",
        "print_matrix(ans)\n"
      ]
    },
    {
      "cell_type": "markdown",
      "metadata": {
        "id": "-l1SdQX1odKf"
      },
      "source": [
        "#Crows vs Cats"
      ]
    },
    {
      "cell_type": "code",
      "execution_count": 15,
      "metadata": {
        "colab": {
          "base_uri": "https://localhost:8080/"
        },
        "id": "8Tj2Smc3nvsh",
        "outputId": "b0d60709-5ae2-46d1-b2af-838a1f2a450f"
      },
      "outputs": [
        {
          "name": "stdout",
          "output_type": "stream",
          "text": [
            "|  1  |  2  |  9  |  7  |\n",
            "-------------------------\n",
            "|  4  |  5  |  1  |  8  |\n",
            "-------------------------\n",
            "|  3  |  6  |  2  |  7  |\n",
            "-------------------------\n",
            "|  2  |  8  |  6  |  3  |\n",
            "-------------------------\n",
            "Strength Difference Array is :  [-2  6  5 -5  0  1]\n",
            "Accepted\n"
          ]
        }
      ],
      "source": [
        "def strength_difference(clubroom):\n",
        "\n",
        "    club_row,club_col=clubroom.shape\n",
        "    strgthsize=((club_row*club_col)-club_row)//2\n",
        "    strength_diff=np.zeros(strgthsize,dtype=int)\n",
        "    idx=0\n",
        "    for i in range(club_row):\n",
        "        for j in range(i+1,club_col):\n",
        "            if i!=j:\n",
        "                strength_diff[idx]=clubroom[i][j]-clubroom[j][i]\n",
        "                idx+=1\n",
        "\n",
        "    return strength_diff\n",
        "\n",
        "clubroom = np.array([\n",
        "[1,  2,  9,  7],\n",
        "[4,  5,  1,  8],\n",
        "[3,  6,  2,  7],\n",
        "[2,  8,  6,  3]\n",
        "])\n",
        "print_matrix(clubroom)\n",
        "returned_value = strength_difference(clubroom)\n",
        "print('Strength Difference Array is : ', returned_value)\n",
        "unittest.output_test(returned_value, np.array([-2, 6, 5, -5, 0, 1]))"
      ]
    },
    {
      "cell_type": "markdown",
      "metadata": {
        "id": "CcjR0GgUpW8A"
      },
      "source": [
        "#ATM's Triangle"
      ]
    },
    {
      "cell_type": "code",
      "execution_count": 17,
      "metadata": {
        "colab": {
          "base_uri": "https://localhost:8080/"
        },
        "id": "br9aLK_5pETy",
        "outputId": "3377868c-1d13-4b46-a336-e73b35fedb00"
      },
      "outputs": [
        {
          "name": "stdout",
          "output_type": "stream",
          "text": [
            "1         \n",
            "2 2       \n",
            "3 4 3     \n",
            "4 7 10 4   \n",
            "5 11 21 25 5 \n"
          ]
        }
      ],
      "source": [
        "\n",
        "def atm_triangle(n):\n",
        "    atmarr=np.zeros((n,n),dtype=int)\n",
        "    for i in range(n):\n",
        "        atmarr[i][0]=i+1\n",
        "        atmarr[i][i]=i+1\n",
        "        for j in range(1,i):\n",
        "            atmarr[i][j]=sum(atmarr[i-1],j)\n",
        "    return atmarr\n",
        "\n",
        "def sum(arr,num):\n",
        "    s=0\n",
        "    for i in range(num+1):\n",
        "        s+=arr[i]\n",
        "    return s\n",
        "\n",
        "def print_without_none(matrix):\n",
        "    for i in matrix:\n",
        "        for elem in i:\n",
        "            if elem!=0:\n",
        "                print(elem,end=\" \")\n",
        "            else:\n",
        "                print(\" \",end=\" \")\n",
        "        print()\n",
        "\n",
        "n = 5\n",
        "returned_value = atm_triangle(n)\n",
        "print_without_none(returned_value)\n",
        "#This should print\n",
        "# 1\n",
        "# 2  2\n",
        "# 3  4  3\n",
        "# 4  7  10  4\n",
        "# 5  11 21  25  5"
      ]
    },
    {
      "cell_type": "markdown",
      "metadata": {
        "id": "hdl0pTqnqBIQ"
      },
      "source": [
        "#Trace The BOT"
      ]
    },
    {
      "cell_type": "code",
      "execution_count": 18,
      "metadata": {
        "colab": {
          "base_uri": "https://localhost:8080/"
        },
        "id": "NtWs-lWUqDjw",
        "outputId": "0c857e15-3560-44c7-86db-28c4002614f3"
      },
      "outputs": [
        {
          "name": "stdout",
          "output_type": "stream",
          "text": [
            "|  .  |  /  |  .  |  .  |  .  |  .  |  .  |\n",
            "-------------------------------------------\n",
            "|  .  |  .  |  .  |  .  |  *  |  .  |  .  |\n",
            "-------------------------------------------\n",
            "|  .  |  .  |  *  |  .  |  .  |  .  |  .  |\n",
            "-------------------------------------------\n",
            "|  .  |  .  |  .  |  -  |  .  |  .  |  .  |\n",
            "-------------------------------------------\n",
            "|  .  |  .  |  .  |  .  |  .  |  .  |  .  |\n",
            "-------------------------------------------\n",
            "|  .  |  .  |  .  |  .  |  .  |  .  |  .  |\n",
            "-------------------------------------------\n",
            "|  .  |  .  |  .  |  .  |  .  |  .  |  .  |\n",
            "-------------------------------------------\n"
          ]
        }
      ],
      "source": [
        "\n",
        "class board:\n",
        "    def __init__(self,grd,cmd):\n",
        "        self.x=3\n",
        "        self.y=3\n",
        "        self.g=grd\n",
        "        self.c=cmd\n",
        "        self.g[self.x][self.y]=\"-\"\n",
        "        self.op()\n",
        "    def op(self):\n",
        "        for i in self.c:\n",
        "            if i==1:\n",
        "                self.f1()\n",
        "            elif i==2:\n",
        "                self.f2()\n",
        "            elif i==3:\n",
        "                self.f3()\n",
        "            elif i==4:\n",
        "                self.f4()\n",
        "            elif i==5:\n",
        "                self.f5()\n",
        "            elif i==6:\n",
        "                self.f6()\n",
        "            elif i==7:\n",
        "                self.f7()\n",
        "            elif i==8:\n",
        "                self.f8()\n",
        "            elif i==9:\n",
        "                self.f9()\n",
        "            elif i==10:\n",
        "                self.f10()\n",
        "            elif i==11:\n",
        "                self.f11()\n",
        "            elif i==12:\n",
        "                self.f12()\n",
        "        self.g[self.y][self.x]=\"/\"\n",
        "\n",
        "    def f1(self):\n",
        "        if self.x-3>=0 and self.y-2>=0:\n",
        "            self.x-=3\n",
        "            self.y-=2\n",
        "            self.g[self.y][self.x]=\"*\"\n",
        "    def f2(self):\n",
        "        if self.x-1>=0 and self.y-2>=0:\n",
        "            self.x-=1\n",
        "            self.y-=2\n",
        "            self.g[self.y][self.x]=\"*\"\n",
        "    def f3(self):\n",
        "        if self.x-2>=0 and self.y-3>=0:\n",
        "            self.x-=2\n",
        "            self.y-=3\n",
        "            self.g[self.y][self.x]=\"*\"\n",
        "    def f4(self):\n",
        "        if self.x-2>=0 and self.y-1>=0:\n",
        "            self.x-=2\n",
        "            self.y-=1\n",
        "            self.g[self.y][self.x]=\"*\"\n",
        "    def f5(self):\n",
        "        if self.x+1<=6 and self.y-2>=0:\n",
        "            self.x+=1\n",
        "            self.y-=2\n",
        "            self.g[self.y][self.x]=\"*\"\n",
        "    def f6(self):\n",
        "        if self.x+3<=6 and self.y-2>=0:\n",
        "            self.x+=3\n",
        "            self.y-=2\n",
        "            self.g[self.y][self.x]=\"*\"\n",
        "    def f7(self):\n",
        "        if self.x+2<=6 and self.y-3>=0:\n",
        "            self.x+=2\n",
        "            self.y-=3\n",
        "            self.g[self.y][self.x]=\"*\"\n",
        "    def f8(self):\n",
        "        if self.x+2<=6 and self.y-1>=0:\n",
        "            self.x+=2\n",
        "            self.y-=1\n",
        "            self.g[self.y][self.x]=\"*\"\n",
        "    def f9(self):\n",
        "        if self.x-3>=0 and self.y+2<=6:\n",
        "            self.x-=3\n",
        "            self.y+=2\n",
        "            self.g[self.y][self.x]=\"*\"\n",
        "    def f10(self):\n",
        "        if self.x-1>=0 and self.y+2<=6:\n",
        "            self.x-=1\n",
        "            self.y+=2\n",
        "            self.g[self.y][self.x]=\"*\"\n",
        "    def f11(self):\n",
        "        if self.x-2>=0 and self.y+1<=6:\n",
        "            self.x-=2\n",
        "            self.y+=1\n",
        "            self.g[self.y][self.x]=\"*\"\n",
        "    def f12(self):\n",
        "        if self.x-2>=0 and self.y+3<=6:\n",
        "            self.x-=2\n",
        "            self.y+=3\n",
        "            self.g[self.y][self.x]=\"*\"\n",
        "\n",
        "def moving_around(cmds):\n",
        "    grid=np.full((7, 7), '.')\n",
        "    board(grid,cmds)\n",
        "    return grid\n",
        "\n",
        "cmds = np.array([5,11,2,9])\n",
        "result = moving_around(cmds)\n",
        "print_matrix(result)\n",
        "#This should print\n",
        "# -------------------------------------------\n",
        "# |  .  |  /  |  .  |  .  |  .  |  .  |  .  |\n",
        "# -------------------------------------------\n",
        "# |  .  |  .  |  .  |  .  |  *  |  .  |  .  |\n",
        "# -------------------------------------------\n",
        "# |  .  |  .  |  *  |  .  |  .  |  .  |  .  |\n",
        "# -------------------------------------------\n",
        "# |  .  |  .  |  .  |  -  |  .  |  .  |  .  |\n",
        "# -------------------------------------------\n",
        "# |  .  |  .  |  .  |  .  |  .  |  .  |  .  |\n",
        "# -------------------------------------------\n",
        "# |  .  |  .  |  .  |  .  |  .  |  .  |  .  |\n",
        "# -------------------------------------------\n",
        "# |  .  |  .  |  .  |  .  |  .  |  .  |  .  |\n",
        "# -------------------------------------------"
      ]
    }
  ],
  "metadata": {
    "colab": {
      "provenance": []
    },
    "kernelspec": {
      "display_name": "Python 3",
      "name": "python3"
    },
    "language_info": {
      "name": "python"
    }
  },
  "nbformat": 4,
  "nbformat_minor": 0
}

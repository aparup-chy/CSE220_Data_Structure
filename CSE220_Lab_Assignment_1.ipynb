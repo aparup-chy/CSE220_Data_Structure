{
  "cells": [
    {
      "cell_type": "markdown",
      "metadata": {},
      "source": [
        "<p>Part 1 Tasks: <a href=\"https://drive.google.com/file/d/1EF3h6LHkunnLcDM_vAbLfC8o8kJGh_-Z/view?usp=sharing\">https://drive.google.com/file/d/1EF3h6LHkunnLcDM_vAbLfC8o8kJGh_-Z/view?usp=sharing</a></p>\n",
        "<p>Part 2 Tasks: <a href=\"https://drive.google.com/file/d/1RlhSLieei9LkEHYg82_shHkeaGJFHupL/view?usp=sharing\"</a>https://drive.google.com/file/d/1RlhSLieei9LkEHYg82_shHkeaGJFHupL/view?usp=sharing</p>"
      ]
    },
    {
      "cell_type": "code",
      "execution_count": 39,
      "metadata": {
        "id": "pi_n0okZ1v_O"
      },
      "outputs": [],
      "source": [
        "import numpy as np"
      ]
    },
    {
      "cell_type": "markdown",
      "metadata": {
        "id": "lJl5kEU9s6VF"
      },
      "source": [
        "**Instructions to Follow (Failing to follow these will result mark deductions).**\n",
        "\n",
        "\n",
        "1.   You can not use any built-in function except len()\n",
        "2.   You can not use any other python collections except array (e.g: tuptle, dictionaries etc.).\n",
        "3. We will initialize a new array using numpy library. We have to mention the fixed size during initialization. There might be two approach.\n",
        "\n",
        "  i. arr = np.array([None] * 10) #Initializing an array length 10 with values None.\n",
        "\n",
        "  ii. arr = np.array([10, 20, 30, 40]) #Initializing an array length 4 with the values.\n",
        "4. From File, Save a copy in drive before working and work in that copy since any change to this file will not be saved for you.\n",
        "\n",
        "\n",
        "\n",
        "\n"
      ]
    },
    {
      "cell_type": "code",
      "execution_count": 40,
      "metadata": {
        "colab": {
          "base_uri": "https://localhost:8080/"
        },
        "id": "nAE3YxgdLMa1",
        "outputId": "bf5d7eeb-2fd5-4112-8264-ee5b76b5229e"
      },
      "outputs": [
        {
          "name": "stdout",
          "output_type": "stream",
          "text": [
            "Requirement already satisfied: fhm-unittest in /usr/local/lib/python3.10/dist-packages (1.0.1)\n",
            "Requirement already satisfied: fuzzywuzzy in /usr/local/lib/python3.10/dist-packages (0.18.0)\n"
          ]
        }
      ],
      "source": [
        "# You must run this cell to install dependency\n",
        "! pip3 install fhm-unittest\n",
        "! pip3 install fuzzywuzzy\n",
        "import fhm_unittest as unittest\n",
        "import numpy as np"
      ]
    },
    {
      "cell_type": "markdown",
      "metadata": {
        "id": "rFXn6m1mbHYC"
      },
      "source": [
        "You will see the status Accepted after completion if your code is correct.\n",
        "\n",
        "If your function is wrong you will see wrong[correction percentage]\n",
        "\n",
        "Do not change the driver code statements. You can only change the input values to test your code."
      ]
    },
    {
      "cell_type": "markdown",
      "metadata": {
        "id": "u0XwgDntJEVO"
      },
      "source": [
        "**Part 1**"
      ]
    },
    {
      "cell_type": "code",
      "execution_count": 41,
      "metadata": {
        "colab": {
          "base_uri": "https://localhost:8080/"
        },
        "id": "hzdDNKdRahbQ",
        "outputId": "a80e4a1c-d6c3-4b20-9807-2bb3f23c006a"
      },
      "outputs": [
        {
          "name": "stdout",
          "output_type": "stream",
          "text": [
            "///  Test 01: Play Right  ///\n",
            "Task 1: [40 50 60 10 20 30]\n"
          ]
        }
      ],
      "source": [
        "# Test 01: Play Right\n",
        "def playRight(sequence, beats):\n",
        "    for i in range(len(beats)):\n",
        "        if beats[i]==1:\n",
        "            temp=sequence[(len(sequence)-1)]\n",
        "            for j in range(len(sequence)-1,0,-1):\n",
        "                sequence[j]=sequence[j-1]\n",
        "            sequence[0]=temp\n",
        "\n",
        "    return sequence\n",
        "\n",
        "print(\"///  Test 01: Play Right  ///\")\n",
        "sequence = np.array([10, 20, 30, 40, 50, 60])\n",
        "beats = np.array([1, 0, 0, 1, 0, 1])\n",
        "returned_value = playRight(sequence, beats)\n",
        "print(f'Task 1: {returned_value}')  # This should print [40, 50, 60, 10, 20, 30]"
      ]
    },
    {
      "cell_type": "code",
      "execution_count": 42,
      "metadata": {
        "colab": {
          "base_uri": "https://localhost:8080/"
        },
        "id": "Ag1wNuXgaoh4",
        "outputId": "27370686-8a73-4337-a5df-de37afc4abdd"
      },
      "outputs": [
        {
          "name": "stdout",
          "output_type": "stream",
          "text": [
            "///  Test 02: Discard Cards  ///\n",
            "Task 2: [1 3 8 5 7 0 0 0 0]\n",
            "Accepted\n"
          ]
        }
      ],
      "source": [
        "# Test 02: Discard Cards\n",
        "def discardCards(cards,number):\n",
        "    newarr=np.array([0]*len(cards))\n",
        "    idx=0\n",
        "    for i in cards:\n",
        "        if i!=number:\n",
        "            newarr[idx]=i\n",
        "            idx+=1\n",
        "\n",
        "    return newarr\n",
        "\n",
        "print(\"///  Test 02: Discard Cards  ///\")\n",
        "cards = np.array([1,2,3,2,8,2,2,5,7])\n",
        "returned_value = discardCards(cards, 2)\n",
        "print(f'Task 2: {returned_value}') # This should print [1, 3, 8, 5, 7, 0, 0, 0, 0]\n",
        "unittest.output_test(returned_value, np.array([1, 3, 8, 5, 7, 0, 0, 0, 0]))"
      ]
    },
    {
      "cell_type": "code",
      "execution_count": 73,
      "metadata": {
        "colab": {
          "base_uri": "https://localhost:8080/"
        },
        "id": "Ene8Dp4vasuN",
        "outputId": "0500c63b-c5d4-475c-a300-734bb8ec06f2"
      },
      "outputs": [
        {
          "name": "stdout",
          "output_type": "stream",
          "text": [
            "///  Test 03: Merge Lineup  ///\n",
            "Task 3: [12  3 28 -8  5]\n",
            "Accepted\n",
            "Task 3: [ 4 17  6 27  2]\n",
            "Accepted\n"
          ]
        }
      ],
      "source": [
        "#Test 03: Merge Lineup\n",
        "def mergeLineup(pokemon_1, pokemon_2):\n",
        "    result=[None]*len(pokemon_1) #this array stores the resulting array\n",
        "    for i in range(len(pokemon_1)):\n",
        "        if pokemon_1[i]==None:\n",
        "            pokemon_1[i]=0\n",
        "    for i in range(len(pokemon_2)):\n",
        "        if pokemon_2[i]==None:\n",
        "            pokemon_2[i]=0\n",
        "\n",
        "    i=0\n",
        "    j=len(pokemon_2)-1\n",
        "    for k in range(len(result)):\n",
        "        result[k]=pokemon_1[i]+pokemon_2[j]\n",
        "        i+=1\n",
        "        j-=1\n",
        "    return np.array(result)\n",
        "\n",
        "print(\"///  Test 03: Merge Lineup  ///\")\n",
        "pokemon_1 = np.array([12, 3, 25, 1, None])\n",
        "pokemon_2 = np.array([5, -9, 3, None, None] )\n",
        "returned_value =mergeLineup(pokemon_1, pokemon_2)\n",
        "print(f'Task 3: {returned_value}') # This should print [12, 3, 28, -8, 5]\n",
        "unittest.output_test(returned_value, np.array([12, 3, 28, -8, 5]))\n",
        "\n",
        "pokemon_1 = np.array([4, 5, -1, None, None])\n",
        "pokemon_2 = np.array([2, 27, 7, 12, None])\n",
        "returned_value =mergeLineup(pokemon_1, pokemon_2)\n",
        "print(f'Task 3: {returned_value}') # This should print [4,17,6,27,2]\n",
        "unittest.output_test(returned_value, np.array([4,17,6,27,2]))"
      ]
    },
    {
      "cell_type": "code",
      "execution_count": 50,
      "metadata": {
        "colab": {
          "base_uri": "https://localhost:8080/"
        },
        "id": "ox9p5qL7axD8",
        "outputId": "98b63d98-dccc-4767-d1e2-0a1e422fd158"
      },
      "outputs": [
        {
          "name": "stdout",
          "output_type": "stream",
          "text": [
            "///  Test 04: Balance Your Salami  ///\n",
            "Task 4: True\n",
            "Accepted\n",
            "Task 4: False\n",
            "Accepted\n",
            "Task 4: True\n",
            "Accepted\n"
          ]
        }
      ],
      "source": [
        "# Test 04: Balance your Salami\n",
        "def balanceSalami(salami):\n",
        "    for i in range(len(salami)):\n",
        "        sum1=0\n",
        "        sum2=0\n",
        "        for j in range(0,i+1):\n",
        "            sum1+=salami[j]\n",
        "        for k in range(i+1,len(salami)):\n",
        "            sum2+=salami[k]\n",
        "        if sum1==sum2:\n",
        "            return True\n",
        "            break\n",
        "    return False\n",
        "\n",
        "print(\"///  Test 04: Balance Your Salami  ///\")\n",
        "salami = np.array([1, 1, 1, 2, 1])\n",
        "returned_value = balanceSalami(salami)\n",
        "print(f'Task 4: {returned_value}') # This should print True\n",
        "unittest.output_test(returned_value, True)\n",
        "\n",
        "salami = [2, 1, 1, 2, 1]\n",
        "returned_value = np.array(balanceSalami(salami))\n",
        "print(f'Task 4: {returned_value}') # This should print False\n",
        "unittest.output_test(returned_value, False)\n",
        "\n",
        "salami = [10, 3, 1, 2, 10]\n",
        "returned_value =  np.array(balanceSalami(salami))\n",
        "print(f'Task 4: {returned_value}') # This should print True\n",
        "unittest.output_test(returned_value, True)"
      ]
    },
    {
      "cell_type": "code",
      "execution_count": 66,
      "metadata": {
        "colab": {
          "base_uri": "https://localhost:8080/"
        },
        "id": "JGIYYUIza-st",
        "outputId": "c0e94598-2dfd-472d-d856-aa33893540ff"
      },
      "outputs": [
        {
          "name": "stdout",
          "output_type": "stream",
          "text": [
            "///  Test 05: Protecc Salami  ///\n",
            "Task 5: True\n",
            "Accepted\n",
            "Task 5: False\n",
            "Accepted\n"
          ]
        }
      ],
      "source": [
        "# Test 05: Protect Salami\n",
        "\n",
        "def protectSalami(salami):\n",
        "    arr=np.array([0]*len(salami))\n",
        "    rep=np.array([0]*len(salami))\n",
        "    check=False\n",
        "\n",
        "    for i in range(len(salami)):\n",
        "        flag=True\n",
        "        for j in range(len(arr)):\n",
        "            if salami[i]==arr[j]:\n",
        "                flag=False\n",
        "                break\n",
        "        if flag==True:\n",
        "            arr[i]=salami[i]\n",
        "    for i in range(len(arr)):\n",
        "        c=0\n",
        "        for j in range(len(salami)):\n",
        "            if arr[i]==salami[j]:\n",
        "                c+=1\n",
        "        rep[i]=c\n",
        "\n",
        "    for i in range(len(rep)):\n",
        "        if rep[i]!=0:\n",
        "            c=0\n",
        "            for j in range(len(rep)):\n",
        "                if rep[i]==rep[j]:\n",
        "                    c+=1\n",
        "                if c>1:\n",
        "                    check=True\n",
        "                    break\n",
        "        return check\n",
        "\n",
        "print(\"///  Test 05: Protecc Salami  ///\")\n",
        "salami = np.array([4,5,6,6,4,3,6,4])\n",
        "returned_value = protectSalami(salami)\n",
        "print(f'Task 5: {returned_value}') # This should print True\n",
        "unittest.output_test(returned_value, True)\n",
        "\n",
        "salami = np.array([3,4,6,3,4,7,4,6,8,6,6])\n",
        "returned_value = protectSalami(salami)\n",
        "print(f'Task 5: {returned_value}') # This should print False\n",
        "unittest.output_test(returned_value, False)"
      ]
    },
    {
      "cell_type": "markdown",
      "metadata": {
        "id": "pIEuyGANI65g"
      },
      "source": [
        "**Part 2**"
      ]
    },
    {
      "cell_type": "code",
      "execution_count": 72,
      "metadata": {
        "colab": {
          "base_uri": "https://localhost:8080/"
        },
        "id": "RU9Obz9-J_dQ",
        "outputId": "dc0b4117-b102-4e3c-843f-080f8e598693"
      },
      "outputs": [
        {
          "name": "stdout",
          "output_type": "stream",
          "text": [
            "The mean of the numbers is: 10.181818181818182\n",
            "The standard deviation is: 7.96\n",
            "New array: [25, -5]\n"
          ]
        }
      ],
      "source": [
        "# Part 2\n",
        "\n",
        "def probability_theory(arr):\n",
        "    total_sum=0\n",
        "    for index in range(len(arr)):\n",
        "        total_sum+=arr[index]\n",
        "    mean_value=total_sum/len(arr)\n",
        "\n",
        "    sum_of_squared_diff=0\n",
        "    for index in range(len(arr)):\n",
        "        value=(arr[index]-mean_value)**2\n",
        "        sum_of_squared_diff+=value\n",
        "    standard_deviation=(sum_of_squared_diff/(len(arr)-1))**(1/2)\n",
        "\n",
        "    deviation_away=standard_deviation*1.5\n",
        "    lower_limit=mean_value-deviation_away\n",
        "    upper_limit=mean_value+deviation_away\n",
        "\n",
        "    count_within_limit=0\n",
        "    for index in range(len(arr)):\n",
        "        if lower_limit<=arr[index]<=upper_limit:\n",
        "            count_within_limit+=1\n",
        "\n",
        "    new_arr=[None]*count_within_limit\n",
        "    new_arr_index=0\n",
        "    for index in range(len(arr)):\n",
        "        if lower_limit<=arr[index]<=upper_limit:\n",
        "            new_arr[new_arr_index]=arr[index]\n",
        "            new_arr_index+=1\n",
        "\n",
        "    count_outside_limit=len(arr)-len(new_arr)\n",
        "\n",
        "    new_array=[None]*count_outside_limit\n",
        "    c=0\n",
        "    for index in range(len(arr)):\n",
        "        exists_in_new_arr=False\n",
        "        for new_arr_index in range(len(new_arr)):\n",
        "            if arr[index]==new_arr[new_arr_index]:\n",
        "                exists_in_new_arr=True\n",
        "                break\n",
        "\n",
        "        if not exists_in_new_arr:\n",
        "            new_array[c]=arr[index]\n",
        "            c+=1\n",
        "\n",
        "    return mean_value,standard_deviation,new_array\n",
        "\n",
        "original_array=[10, 8, 13, 9, 14, 25, -5, 20, 7, 7, 4]\n",
        "mean,sd,new_arr=probability_theory(original_array)\n",
        "print(f\"The mean of the numbers is: {mean}\\nThe standard deviation is: {sd:.2f}\\nNew array: {new_arr}\")\n"
      ]
    }
  ],
  "metadata": {
    "colab": {
      "provenance": []
    },
    "kernelspec": {
      "display_name": "Python 3",
      "name": "python3"
    },
    "language_info": {
      "name": "python"
    }
  },
  "nbformat": 4,
  "nbformat_minor": 0
}

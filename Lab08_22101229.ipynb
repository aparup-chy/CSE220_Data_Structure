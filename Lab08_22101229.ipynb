{
  "cells": [
    {
      "cell_type": "markdown",
      "metadata": {},
      "source": [
        "Lab 8 Tree Tasks: https://drive.google.com/file/d/1DJXHo5XuEiwkuvYE0FYPs6A6oRe15t_q/view"
      ]
    },
    {
      "cell_type": "code",
      "execution_count": 1,
      "metadata": {
        "id": "D6vC520OPeTa"
      },
      "outputs": [],
      "source": [
        "class BTNode:\n",
        "  def __init__(self, elem):\n",
        "    self.elem = elem\n",
        "    self.right = None\n",
        "    self.left = None"
      ]
    },
    {
      "cell_type": "code",
      "execution_count": 2,
      "metadata": {
        "id": "UDTKlm4-PfNM"
      },
      "outputs": [],
      "source": [
        "def inorder(root):\n",
        "  if root == None:\n",
        "    return\n",
        "\n",
        "  inorder(root.left)\n",
        "  print(root.elem, end = ' ')\n",
        "  inorder(root.right)"
      ]
    },
    {
      "cell_type": "code",
      "execution_count": 3,
      "metadata": {
        "colab": {
          "base_uri": "https://localhost:8080/"
        },
        "id": "Rtc22SPzPgzM",
        "outputId": "211c82f6-33f5-41cd-a4d8-41d4d52b4a98"
      },
      "outputs": [
        {
          "name": "stdout",
          "output_type": "stream",
          "text": [
            "H D B E A I F J C G k "
          ]
        }
      ],
      "source": [
        "def tree_construction(arr, i = 1):\n",
        "  if i>=len(arr) or arr[i] == None:\n",
        "    return None\n",
        "  p = BTNode(arr[i])\n",
        "  p.left = tree_construction(arr, 2*i)\n",
        "  p.right = tree_construction(arr, 2*i+1)\n",
        "  return p\n",
        "\n",
        "\n",
        "root2 = tree_construction([None, 'A', 'B', 'C', 'D', 'E', 'F', 'G', 'H', None, None, None, 'I', 'J', None, 'k'])\n",
        "inorder(root2)"
      ]
    },
    {
      "cell_type": "markdown",
      "metadata": {
        "id": "S2nNCJNhPqGq"
      },
      "source": [
        "Task 1"
      ]
    },
    {
      "cell_type": "code",
      "execution_count": 13,
      "metadata": {
        "colab": {
          "base_uri": "https://localhost:8080/"
        },
        "id": "zbBHU3FoPieb",
        "outputId": "94c1971c-fa45-4e2e-d5a8-377ff40064d9"
      },
      "outputs": [
        {
          "name": "stdout",
          "output_type": "stream",
          "text": [
            "Given Tree Inorder Traversal:  40 20 60 10 30 \n",
            "Mirrored Tree Inorder Traversal:  30 10 60 20 40 "
          ]
        }
      ],
      "source": [
        "def convert_mirror(root):\n",
        "    if root==None:\n",
        "        return\n",
        "    tn=BTNode(root.elem)\n",
        "    tn.left=convert_mirror(root.right)\n",
        "    tn.right=convert_mirror(root.left)\n",
        "    return tn\n",
        "\n",
        "#DRIVER CODE\n",
        "root = BTNode(10)\n",
        "n1 = BTNode(20)\n",
        "n2 = BTNode(30)\n",
        "n3 = BTNode(40)\n",
        "n4 = BTNode(60)\n",
        "\n",
        "root.left = n1\n",
        "root.right = n2\n",
        "\n",
        "n1.left = n3\n",
        "n1.right = n4\n",
        "\n",
        "print('Given Tree Inorder Traversal: ', end = ' ')\n",
        "inorder(root) #Given Tree Inorder Traversal:  40 20 60 10 30\n",
        "print()\n",
        "\n",
        "root2 = convert_mirror(root)\n",
        "print('Mirrored Tree Inorder Traversal: ', end = ' ')\n",
        "inorder(root2) #Mirrored Tree Inorder Traversal:  30 10 60 20 40"
      ]
    },
    {
      "cell_type": "markdown",
      "metadata": {
        "id": "c-TBf3m0PrtK"
      },
      "source": [
        "Task 2"
      ]
    },
    {
      "cell_type": "code",
      "execution_count": 8,
      "metadata": {
        "colab": {
          "base_uri": "https://localhost:8080/"
        },
        "id": "lsuxinlBPmji",
        "outputId": "9630ce6f-7b97-491d-80fa-ab0e488d3cb9"
      },
      "outputs": [
        {
          "name": "stdout",
          "output_type": "stream",
          "text": [
            "Given Tree Inorder Traversal:  3 9 -5 4 2 7 \n",
            "Level Wise Smallest Value:  {0: 4, 1: 2, 2: -5}\n"
          ]
        }
      ],
      "source": [
        "def smallest_level(root):\n",
        "    return smllvlval(root)\n",
        "\n",
        "def smllvlval(root,dict1={},k=0):\n",
        "    if root==None:\n",
        "        return dict1\n",
        "    elif k not in dict1 or root.elem<dict1[k]:\n",
        "        dict1[k]=root.elem\n",
        "    lL=smllvlval(root.left,dict1,k+1)\n",
        "    lR=smllvlval(root.right,dict1,k+1)\n",
        "    return dict1\n",
        "\n",
        "#DRIVER CODE\n",
        "root = tree_construction([None, 4,9,2,3,-5,None,7])\n",
        "print('Given Tree Inorder Traversal: ', end = ' ')\n",
        "inorder(root) #Given Tree Inorder Traversal:  3 9 -5 4 2 7\n",
        "print()\n",
        "print('Level Wise Smallest Value: ', end = ' ')\n",
        "print(smallest_level(root)) #Level Wise Smallest Value:  {0: 4, 1: 2, 2: -5}"
      ]
    },
    {
      "cell_type": "markdown",
      "metadata": {
        "id": "7r3lH3aWPz2d"
      },
      "source": [
        "Task 3"
      ]
    },
    {
      "cell_type": "code",
      "execution_count": 10,
      "metadata": {
        "colab": {
          "base_uri": "https://localhost:8080/"
        },
        "id": "zFwP64v4Pu6d",
        "outputId": "4d62e21e-09a5-4771-b957-560fb0b3088e"
      },
      "outputs": [
        {
          "name": "stdout",
          "output_type": "stream",
          "text": [
            "Given Tree Inorder Traversal:  4 8 10 12 14 20 22 \n",
            "Inorder predecessor of node 20: 14\n"
          ]
        }
      ],
      "source": [
        "def inorder_predecessor(root, x):\n",
        "\n",
        "    return maximum(x.left)\n",
        "\n",
        "def maximum(root):\n",
        "    if root.right==None:\n",
        "        return root\n",
        "    return maximum(root.right)\n",
        "\n",
        "\n",
        "#DRIVER CODE\n",
        "root = BTNode(20)\n",
        "n1 = BTNode(8)\n",
        "n2 = BTNode(22)\n",
        "n3 = BTNode(4)\n",
        "n4 = BTNode(12)\n",
        "n5 = BTNode(10)\n",
        "n6 = BTNode(14)\n",
        "\n",
        "root.left = n1\n",
        "root.right = n2\n",
        "\n",
        "n1.left = n3\n",
        "n1.right = n4\n",
        "\n",
        "n4.left = n5\n",
        "n4.right = n6\n",
        "\n",
        "print('Given Tree Inorder Traversal: ', end = ' ')\n",
        "inorder(root) #Given Tree Inorder Traversal:  4 8 10 12 14 20 22\n",
        "print()\n",
        "\n",
        "x = root\n",
        "print(f'Inorder predecessor of node {x.elem}: {inorder_predecessor(root, x).elem}') #Inorder predecessor of node 20: 14"
      ]
    },
    {
      "cell_type": "markdown",
      "metadata": {
        "id": "t3IGW4OaP8Vy"
      },
      "source": [
        "Task 4"
      ]
    },
    {
      "cell_type": "code",
      "execution_count": 30,
      "metadata": {
        "colab": {
          "base_uri": "https://localhost:8080/"
        },
        "id": "d1A-tR7hP2fI",
        "outputId": "39985313-dfe4-4f6a-ad6f-52a813d167bf"
      },
      "outputs": [
        {
          "name": "stdout",
          "output_type": "stream",
          "text": [
            "10\n",
            "15\n",
            "20\n",
            "25\n",
            "10\n"
          ]
        }
      ],
      "source": [
        "def LCA(root,x,y):\n",
        "    if root==None:\n",
        "        return\n",
        "    elif root.elem>y and root.elem>x:\n",
        "        return LCA(root.left,x,y)\n",
        "    elif root.elem<y and root.elem<x:\n",
        "        return LCA(root.right,x,y)\n",
        "    return root.elem\n",
        "\n",
        "#DRIVER CODE\n",
        "#Write by yourself from the given tree\n",
        "#check all the sample inputs given\n",
        "root=BTNode(15)\n",
        "root.left=BTNode(10)\n",
        "root.right=BTNode(25)\n",
        "root.left.left=BTNode(8)\n",
        "root.left.right=BTNode(12)\n",
        "root.right.left=BTNode(20)\n",
        "root.right.right=BTNode(30)\n",
        "root.left.left.left=BTNode(6)\n",
        "root.left.left.right=BTNode(9)\n",
        "root.right.left.left=BTNode(18)\n",
        "root.right.left.right=BTNode(22)\n",
        "\n",
        "print(LCA(root,6,12))\n",
        "print(LCA(root,20,6))\n",
        "print(LCA(root,18,22))\n",
        "print(LCA(root,20,25))\n",
        "print(LCA(root,10,12))\n"
      ]
    },
    {
      "cell_type": "markdown",
      "metadata": {
        "id": "T3Pimbw_PLHY"
      },
      "source": [
        "BONUS TASK 1"
      ]
    },
    {
      "cell_type": "code",
      "execution_count": 21,
      "metadata": {
        "colab": {
          "base_uri": "https://localhost:8080/"
        },
        "id": "m4E9_E8PThk6",
        "outputId": "74eb7b82-1b35-4d52-b3bb-6e453690112a"
      },
      "outputs": [
        {
          "name": "stdout",
          "output_type": "stream",
          "text": [
            "True\n"
          ]
        }
      ],
      "source": [
        "#WRITE THE FUNCTION and DRIVER CODE BY YOURSELF\n",
        "\n",
        "def SumTree(root):\n",
        "    if root is None or (root.left is None and root.right is None):\n",
        "        return True\n",
        "    if root.left is not None:\n",
        "        lsum=s2rtree(root.left)\n",
        "    else:\n",
        "        lsum=0\n",
        "    if root.right is not None:\n",
        "        rsum=s2rtree(root.right)\n",
        "    else:\n",
        "        rsum=0\n",
        "    if root.elem==lsum+rsum and SumTree(root.left) and SumTree(root.right):\n",
        "        return True\n",
        "    else:\n",
        "        return False\n",
        "\n",
        "def s2rtree(node):\n",
        "    if node is None:\n",
        "        return 0\n",
        "    return s2rtree(node.left)+node.elem+s2rtree(node.right)\n",
        "\n",
        "# Driver Code\n",
        "root=BTNode(26)\n",
        "root.left=BTNode(10)\n",
        "root.right=BTNode(3)\n",
        "root.left.left=BTNode(4)\n",
        "root.left.right=BTNode(6)\n",
        "root.right.right=BTNode(3)\n",
        "\n",
        "print(SumTree(root))\n"
      ]
    },
    {
      "cell_type": "markdown",
      "metadata": {
        "id": "SBD-0xoZP_ni"
      },
      "source": [
        "Bonus Task 2"
      ]
    },
    {
      "cell_type": "code",
      "execution_count": 29,
      "metadata": {
        "colab": {
          "base_uri": "https://localhost:8080/"
        },
        "id": "U_LYhaRIxZCb",
        "outputId": "b27714d8-0dfb-46eb-a2c3-d9664170da49"
      },
      "outputs": [
        {
          "name": "stdout",
          "output_type": "stream",
          "text": [
            "4\n"
          ]
        }
      ],
      "source": [
        "#WRITE THE FUNCTION BY YOURSELF\n",
        "\n",
        "def levelDifference(root,lvl=1):\n",
        "    if root is None:\n",
        "        return 0\n",
        "    ldiff=levelDifference(root.left,lvl+1)\n",
        "    rdiff=levelDifference(root.right,lvl+1)\n",
        "    if lvl%2==1:\n",
        "        lvlsum=root.elem\n",
        "    else:\n",
        "        lvlsum=-root.elem\n",
        "    return lvlsum+ldiff+rdiff\n",
        "\n",
        "\n",
        "#DRIVER CODE\n",
        "root = BTNode(1)\n",
        "n2 = BTNode(2)\n",
        "n3 = BTNode(3)\n",
        "n4 = BTNode(4)\n",
        "n5 = BTNode(5)\n",
        "n6 = BTNode(6)\n",
        "n7 = BTNode(7)\n",
        "n8 = BTNode(8)\n",
        "root.left = n2\n",
        "root.right = n3\n",
        "\n",
        "n2.left = n4\n",
        "n3.left = n5\n",
        "n3.right = n6\n",
        "\n",
        "n5.left = n7\n",
        "n5.right = n8\n",
        "\n",
        "print(abs(levelDifference(root)))\n"
      ]
    }
  ],
  "metadata": {
    "colab": {
      "provenance": []
    },
    "kernelspec": {
      "display_name": "Python 3",
      "name": "python3"
    },
    "language_info": {
      "name": "python"
    }
  },
  "nbformat": 4,
  "nbformat_minor": 0
}
